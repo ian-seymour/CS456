{
 "cells": [
  {
   "cell_type": "markdown",
   "id": "e916e191-0bf5-4bf0-8575-f0fff36eda08",
   "metadata": {},
   "source": [
    "I am Ian Seymour, a computer science student at CWU. This notebook will demonstrate the basic use of Pandas and DataFrames\n",
    "in Python while using randomly generated data simulating a dataset of student records. DataFrame's statistics capabilities will also be demonstrated and the created data set will be exported to CSV."
   ]
  },
  {
   "cell_type": "markdown",
   "id": "ccbb75c9-fa75-49e9-a7cd-d675c3baa2aa",
   "metadata": {},
   "source": [
    "Import random genration, Pandas and DataFrame:"
   ]
  },
  {
   "cell_type": "code",
   "execution_count": 1,
   "id": "c1893d63-b850-46e5-aa6b-75c60133b0c2",
   "metadata": {},
   "outputs": [],
   "source": [
    "import random"
   ]
  },
  {
   "cell_type": "code",
   "execution_count": 3,
   "id": "87c1ff97-b52f-4cd0-8ef3-db20e6f26891",
   "metadata": {},
   "outputs": [],
   "source": [
    "import pandas as pd"
   ]
  },
  {
   "cell_type": "markdown",
   "id": "da1da55f-4139-46e9-b9fb-9f84812468d9",
   "metadata": {},
   "source": [
    "Assign number of rows for the dataset:"
   ]
  },
  {
   "cell_type": "code",
   "execution_count": 4,
   "id": "f2ad02a2-cd4d-4b89-898f-81ab65a2d84d",
   "metadata": {},
   "outputs": [],
   "source": [
    "NUM_ROWS = 50"
   ]
  },
  {
   "cell_type": "markdown",
   "id": "07485182-1426-4156-9d0d-e4620f5a581a",
   "metadata": {},
   "source": [
    "Create a list of possible majors:"
   ]
  },
  {
   "cell_type": "code",
   "execution_count": 5,
   "id": "24b6c2f9-d2b0-46b3-a72e-c55ef4c31eb1",
   "metadata": {},
   "outputs": [],
   "source": [
    "AVAILABLE_MAJORS = ['Computer Science', 'Mathematics', 'Physics', 'Electrical Engineering Tech',\n",
    "                'Business', 'Biology', 'English', 'Theater', 'Psychology', 'Chemistry']"
   ]
  },
  {
   "cell_type": "markdown",
   "id": "e216de3d-c26e-4a89-b46d-9e3b80ebed01",
   "metadata": {},
   "source": [
    "Create a dictionary to hold student data:"
   ]
  },
  {
   "cell_type": "code",
   "execution_count": 6,
   "id": "c4cea561-2430-4bca-9c72-249313fbfb13",
   "metadata": {},
   "outputs": [],
   "source": [
    "student = {\n",
    "    'student_id': [],\n",
    "    'score': [],\n",
    "    'major': [],\n",
    "    'grad_year': [],\n",
    "    'pass': []\n",
    "}"
   ]
  },
  {
   "cell_type": "markdown",
   "id": "e0b1d04c-f554-49b8-9e48-639f18a30fc4",
   "metadata": {},
   "source": [
    "Populate all records with randomly generated data (Note: score data is somewhat unrealistic as it's not a uniform distribution):"
   ]
  },
  {
   "cell_type": "code",
   "execution_count": 7,
   "id": "02303129-0405-43c1-9e3b-b45f52931b96",
   "metadata": {},
   "outputs": [],
   "source": [
    "for i in range(NUM_ROWS):\n",
    "    student['student_id'].append(random.randint(000000000, 999999999))\n",
    "    student['score'].append(round(random.uniform(0.00, 100.00), 2))\n",
    "    student['major'].append(random.choice(AVAILABLE_MAJORS))\n",
    "    student['grad_year'].append(random.randint(2025, 2029))\n",
    "    student['pass'].append(random.choice([True, False]))"
   ]
  },
  {
   "cell_type": "markdown",
   "id": "1daf3257-1434-425f-9e6a-acc26cd6b453",
   "metadata": {},
   "source": [
    "Convert to a DataFrame:"
   ]
  },
  {
   "cell_type": "code",
   "execution_count": 8,
   "id": "c047dbee-a605-400d-bb23-59903802a377",
   "metadata": {},
   "outputs": [],
   "source": [
    "df =pd.DataFrame(student)"
   ]
  },
  {
   "cell_type": "markdown",
   "id": "305ba0a2-2ee1-4d5b-a1a6-3862cc0a14a8",
   "metadata": {},
   "source": [
    "Display data sample using head:"
   ]
  },
  {
   "cell_type": "code",
   "execution_count": 9,
   "id": "6e4bfc38-f0ff-47cb-b617-3c73b486291e",
   "metadata": {},
   "outputs": [
    {
     "name": "stdout",
     "output_type": "stream",
     "text": [
      "First five rows of data:\n",
      "\n"
     ]
    }
   ],
   "source": [
    "print(\"First five rows of data:\\n\")"
   ]
  },
  {
   "cell_type": "code",
   "execution_count": 10,
   "id": "3f245af8-3287-4556-a09d-02ebaef1055e",
   "metadata": {},
   "outputs": [
    {
     "name": "stdout",
     "output_type": "stream",
     "text": [
      "   student_id  score                        major  grad_year   pass\n",
      "0   318520509  79.85                      Theater       2027   True\n",
      "1   741936203  32.79                      Biology       2026   True\n",
      "2   171714418  32.99                      Biology       2025  False\n",
      "3   556894482  54.60  Electrical Engineering Tech       2028  False\n",
      "4   512360227  64.01                  Mathematics       2029  False\n"
     ]
    }
   ],
   "source": [
    "print(df.head())"
   ]
  },
  {
   "cell_type": "markdown",
   "id": "fa148116-7791-44b3-b2a5-89906d98d36c",
   "metadata": {},
   "source": [
    "Display data sample using tail:"
   ]
  },
  {
   "cell_type": "code",
   "execution_count": 11,
   "id": "5722a02f-21f7-475a-bc3b-8828748c02f6",
   "metadata": {},
   "outputs": [
    {
     "name": "stdout",
     "output_type": "stream",
     "text": [
      "\n",
      "Last five rows of data:\n",
      "\n"
     ]
    }
   ],
   "source": [
    "print(\"\\nLast five rows of data:\\n\")"
   ]
  },
  {
   "cell_type": "code",
   "execution_count": 12,
   "id": "39641bc9-ef44-47d8-8e3e-ee1d5ebbfbe1",
   "metadata": {},
   "outputs": [
    {
     "name": "stdout",
     "output_type": "stream",
     "text": [
      "    student_id  score      major  grad_year   pass\n",
      "45   312730655  68.47    English       2029   True\n",
      "46   218302887  86.08    English       2025   True\n",
      "47   548033415  49.20   Business       2025  False\n",
      "48   625482617  86.93   Business       2029   True\n",
      "49   569577192   6.37  Chemistry       2026   True\n"
     ]
    }
   ],
   "source": [
    "print(df.tail())"
   ]
  },
  {
   "cell_type": "markdown",
   "id": "d0bdba4c-01ef-4f34-9a0a-ae4c5689fa86",
   "metadata": {},
   "source": [
    "Display columns and their data types:"
   ]
  },
  {
   "cell_type": "code",
   "execution_count": 13,
   "id": "13e73dff-ef02-4b51-837a-f99f561b6a3e",
   "metadata": {},
   "outputs": [
    {
     "name": "stdout",
     "output_type": "stream",
     "text": [
      "\n",
      "Column Names & Data Types:\n",
      "\n"
     ]
    }
   ],
   "source": [
    "print(\"\\nColumn Names & Data Types:\\n\")"
   ]
  },
  {
   "cell_type": "code",
   "execution_count": 14,
   "id": "708c2281-1534-4d55-bb87-3d9cb7af4265",
   "metadata": {},
   "outputs": [
    {
     "name": "stdout",
     "output_type": "stream",
     "text": [
      "<class 'pandas.core.frame.DataFrame'>\n",
      "RangeIndex: 50 entries, 0 to 49\n",
      "Data columns (total 5 columns):\n",
      " #   Column      Non-Null Count  Dtype  \n",
      "---  ------      --------------  -----  \n",
      " 0   student_id  50 non-null     int64  \n",
      " 1   score       50 non-null     float64\n",
      " 2   major       50 non-null     object \n",
      " 3   grad_year   50 non-null     int64  \n",
      " 4   pass        50 non-null     bool   \n",
      "dtypes: bool(1), float64(1), int64(2), object(1)\n",
      "memory usage: 1.7+ KB\n",
      "None\n"
     ]
    }
   ],
   "source": [
    "print(df.info())"
   ]
  },
  {
   "cell_type": "markdown",
   "id": "f8c9cbe9-f1c8-49a5-ba91-af18b8426625",
   "metadata": {},
   "source": [
    "Calculate and print basic statistical metrics:"
   ]
  },
  {
   "cell_type": "code",
   "execution_count": 15,
   "id": "90bd95a9-fe83-4c37-9784-e2b71f54f385",
   "metadata": {},
   "outputs": [],
   "source": [
    "stats = df.describe()"
   ]
  },
  {
   "cell_type": "code",
   "execution_count": 16,
   "id": "562ef59f-c48f-4699-8786-ccc6c15156d7",
   "metadata": {},
   "outputs": [
    {
     "name": "stdout",
     "output_type": "stream",
     "text": [
      "Descriptive Statistics\n",
      "\n"
     ]
    }
   ],
   "source": [
    "print(\"Descriptive Statistics\\n\")"
   ]
  },
  {
   "cell_type": "code",
   "execution_count": 17,
   "id": "3c1cf159-c4ce-4203-b713-6867be888ce6",
   "metadata": {},
   "outputs": [
    {
     "name": "stdout",
     "output_type": "stream",
     "text": [
      "         student_id      score    grad_year\n",
      "count  5.000000e+01  50.000000    50.000000\n",
      "mean   4.583073e+08  43.999400  2026.800000\n",
      "std    2.452963e+08  27.818085     1.456863\n",
      "min    1.463494e+07   0.330000  2025.000000\n",
      "25%    3.084228e+08  22.410000  2026.000000\n",
      "50%    4.899046e+08  46.990000  2027.000000\n",
      "75%    6.313480e+08  64.207500  2028.000000\n",
      "max    9.580741e+08  94.040000  2029.000000\n"
     ]
    }
   ],
   "source": [
    "print(stats)"
   ]
  },
  {
   "cell_type": "markdown",
   "id": "bb1458d7-392d-49d6-b7c4-76caf538e748",
   "metadata": {},
   "source": [
    "Count the number of unique majors in the data:"
   ]
  },
  {
   "cell_type": "code",
   "execution_count": 18,
   "id": "05958b03-c02c-4067-aedd-d3f1031a8875",
   "metadata": {},
   "outputs": [],
   "source": [
    "unique_majors = df['major'].nunique()"
   ]
  },
  {
   "cell_type": "code",
   "execution_count": 19,
   "id": "0a3b2a85-9fb1-46f1-954c-bbd2978919f7",
   "metadata": {},
   "outputs": [
    {
     "name": "stdout",
     "output_type": "stream",
     "text": [
      "\n",
      "The number of unique majors: 10\n"
     ]
    }
   ],
   "source": [
    "print(f\"\\nThe number of unique majors: {unique_majors}\")"
   ]
  },
  {
   "cell_type": "markdown",
   "id": "82651374-3a0d-4249-8d3f-67c837839890",
   "metadata": {},
   "source": [
    "Define a function to convert scores to grades:"
   ]
  },
  {
   "cell_type": "code",
   "execution_count": 20,
   "id": "38324106-f096-4491-ae3e-59a601d08952",
   "metadata": {},
   "outputs": [],
   "source": [
    "def convert_grade(score):\n",
    "    if score >= 90:\n",
    "        return 'A'\n",
    "    elif score >= 80:\n",
    "        return 'B'\n",
    "    elif score >= 70:\n",
    "        return 'C'\n",
    "    elif score >= 60:\n",
    "        return 'D'\n",
    "    else:\n",
    "        return 'F'"
   ]
  },
  {
   "cell_type": "markdown",
   "id": "a416cfa6-fd14-41e8-ad5b-3a4602c69bbf",
   "metadata": {},
   "source": [
    "Apply the function to all score data and output results as new column:"
   ]
  },
  {
   "cell_type": "code",
   "execution_count": 21,
   "id": "30f137eb-37cd-4147-9755-a2526e7dc407",
   "metadata": {},
   "outputs": [],
   "source": [
    "df['grade'] = df['score'].apply(convert_grade)"
   ]
  },
  {
   "cell_type": "markdown",
   "id": "3bb8a8fa-3995-4cba-8302-eb3568f8757f",
   "metadata": {},
   "source": [
    "Export results as a CSV:"
   ]
  },
  {
   "cell_type": "code",
   "execution_count": 22,
   "id": "1b7425bb-322f-49e7-a3b3-26bd1d5abe89",
   "metadata": {},
   "outputs": [],
   "source": [
    "file_name = 'Lab1_sample_data.csv'"
   ]
  },
  {
   "cell_type": "code",
   "execution_count": 23,
   "id": "81abd0b3-7295-4a5a-8c47-ed10d57af59d",
   "metadata": {},
   "outputs": [],
   "source": [
    "df.to_csv(file_name, index=False)"
   ]
  }
 ],
 "metadata": {
  "kernelspec": {
   "display_name": "Python 3 (ipykernel)",
   "language": "python",
   "name": "python3"
  },
  "language_info": {
   "codemirror_mode": {
    "name": "ipython",
    "version": 3
   },
   "file_extension": ".py",
   "mimetype": "text/x-python",
   "name": "python",
   "nbconvert_exporter": "python",
   "pygments_lexer": "ipython3",
   "version": "3.13.5"
  }
 },
 "nbformat": 4,
 "nbformat_minor": 5
}
